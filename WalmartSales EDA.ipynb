{
 "cells": [
  {
   "cell_type": "code",
   "execution_count": 237,
   "id": "bd3e0cc9-a02f-4180-b3a4-cb7cb01fc6e0",
   "metadata": {},
   "outputs": [],
   "source": [
    "import pandas as pd"
   ]
  },
  {
   "cell_type": "code",
   "execution_count": 239,
   "id": "929131b9-40f4-4ed2-9294-cf348a2b73b5",
   "metadata": {},
   "outputs": [
    {
     "data": {
      "text/plain": [
       "Index(['Invoice ID', 'Branch', 'City', 'Customer type', 'Gender',\n",
       "       'Product line', 'Unit price', 'Quantity', 'Tax 5%', 'Total', 'Date',\n",
       "       'Time', 'Payment', 'cogs', 'gross margin percentage', 'gross income',\n",
       "       'Rating'],\n",
       "      dtype='object')"
      ]
     },
     "execution_count": 239,
     "metadata": {},
     "output_type": "execute_result"
    }
   ],
   "source": [
    "raw_data = pd.read_csv(\"WalmartSales.csv\")\n",
    "raw_data.columns"
   ]
  },
  {
   "cell_type": "markdown",
   "id": "9ee01f2f-0e85-46b6-adda-e1a073562a2a",
   "metadata": {},
   "source": [
    "COLUMNS RENAMING\n",
    "- REPLACING \" \" TO \"_\"\n",
    "- CONVERT FIRST SMALL WORD LETTER TO UPPER\n",
    "  "
   ]
  },
  {
   "cell_type": "code",
   "execution_count": null,
   "id": "eff4a143-5e4e-48a3-88b4-b76de648e6c6",
   "metadata": {},
   "outputs": [],
   "source": []
  },
  {
   "cell_type": "markdown",
   "id": "979b6bc4-4a78-4577-903d-aa0f10ae4c51",
   "metadata": {},
   "source": [
    "CLEANING THE DATA TYPES\n",
    "- CONVERT DATE AND TIME COLUMNS TO  DATETIME"
   ]
  },
  {
   "cell_type": "code",
   "execution_count": 244,
   "id": "cb88cafa-ba33-49c6-a07d-a36737ded036",
   "metadata": {},
   "outputs": [
    {
     "name": "stderr",
     "output_type": "stream",
     "text": [
      "C:\\Users\\User\\AppData\\Local\\Temp\\ipykernel_20732\\4011120249.py:2: UserWarning: Could not infer format, so each element will be parsed individually, falling back to `dateutil`. To ensure parsing is consistent and as-expected, please specify a format.\n",
      "  raw_data['Time']  = pd.to_datetime(raw_data['Time']).dt.time\n"
     ]
    }
   ],
   "source": [
    "raw_data['Date']  = pd.to_datetime(raw_data['Date'])\n",
    "raw_data['Time']  = pd.to_datetime(raw_data['Time']).dt.time\n"
   ]
  },
  {
   "cell_type": "code",
   "execution_count": 245,
   "id": "cb4f1205-22d1-4e89-a1aa-b3afe929ede0",
   "metadata": {},
   "outputs": [],
   "source": [
    "raw_data = raw_data.rename(columns={\"Customer type\":\"Customer_Type\",\"Product line\":\"Product_Line\",\n",
    "                            \"Unit price\":\"Unit_Price\",\"Tax 5%\" : \"5%_Tax\", \"cogs\":\"Cogs\",\n",
    "                                     \"gross margin percentage\":\"Gross_Margin_Percentage\",\"gross income\":\"Gross_Income\"}).copy()"
   ]
  },
  {
   "cell_type": "markdown",
   "id": "412057dc-0bc3-4540-807f-bb15b3bce09a",
   "metadata": {},
   "source": [
    "HIGHEST GROSS INCOME CITIES\n",
    "- NAYPYTITAW IS THE HIGHEST GROSS INCOME"
   ]
  },
  {
   "cell_type": "code",
   "execution_count": 249,
   "id": "e4f84be5-27c3-4c66-92ff-0fdc583f8bbf",
   "metadata": {},
   "outputs": [
    {
     "data": {
      "text/html": [
       "<div>\n",
       "<style scoped>\n",
       "    .dataframe tbody tr th:only-of-type {\n",
       "        vertical-align: middle;\n",
       "    }\n",
       "\n",
       "    .dataframe tbody tr th {\n",
       "        vertical-align: top;\n",
       "    }\n",
       "\n",
       "    .dataframe thead th {\n",
       "        text-align: right;\n",
       "    }\n",
       "</style>\n",
       "<table border=\"1\" class=\"dataframe\">\n",
       "  <thead>\n",
       "    <tr style=\"text-align: right;\">\n",
       "      <th></th>\n",
       "      <th>Gross_Income</th>\n",
       "    </tr>\n",
       "    <tr>\n",
       "      <th>City</th>\n",
       "      <th></th>\n",
       "    </tr>\n",
       "  </thead>\n",
       "  <tbody>\n",
       "    <tr>\n",
       "      <th>Naypyitaw</th>\n",
       "      <td>5265.1765</td>\n",
       "    </tr>\n",
       "    <tr>\n",
       "      <th>Yangon</th>\n",
       "      <td>5057.1605</td>\n",
       "    </tr>\n",
       "    <tr>\n",
       "      <th>Mandalay</th>\n",
       "      <td>5057.0320</td>\n",
       "    </tr>\n",
       "  </tbody>\n",
       "</table>\n",
       "</div>"
      ],
      "text/plain": [
       "           Gross_Income\n",
       "City                   \n",
       "Naypyitaw     5265.1765\n",
       "Yangon        5057.1605\n",
       "Mandalay      5057.0320"
      ]
     },
     "execution_count": 249,
     "metadata": {},
     "output_type": "execute_result"
    }
   ],
   "source": [
    "raw_data[[\"City\",\"Gross_Income\"]].groupby([\"City\"]).sum(['Gross_Income']).sort_values([\"Gross_Income\"],ascending=False)"
   ]
  },
  {
   "cell_type": "markdown",
   "id": "58b08a52-9cc6-459a-90d3-a909ae010e26",
   "metadata": {},
   "source": [
    "HIGHEST MONTHLY GROSS INCOME"
   ]
  },
  {
   "cell_type": "code",
   "execution_count": 251,
   "id": "1e8d35be-b3b3-4f4e-b2e0-3395c3ee406d",
   "metadata": {},
   "outputs": [
    {
     "data": {
      "text/html": [
       "<div>\n",
       "<style scoped>\n",
       "    .dataframe tbody tr th:only-of-type {\n",
       "        vertical-align: middle;\n",
       "    }\n",
       "\n",
       "    .dataframe tbody tr th {\n",
       "        vertical-align: top;\n",
       "    }\n",
       "\n",
       "    .dataframe thead th {\n",
       "        text-align: right;\n",
       "    }\n",
       "</style>\n",
       "<table border=\"1\" class=\"dataframe\">\n",
       "  <thead>\n",
       "    <tr style=\"text-align: right;\">\n",
       "      <th></th>\n",
       "      <th>Gross_Income</th>\n",
       "    </tr>\n",
       "    <tr>\n",
       "      <th>Month_Name</th>\n",
       "      <th></th>\n",
       "    </tr>\n",
       "  </thead>\n",
       "  <tbody>\n",
       "    <tr>\n",
       "      <th>January</th>\n",
       "      <td>5537.708</td>\n",
       "    </tr>\n",
       "    <tr>\n",
       "      <th>March</th>\n",
       "      <td>5212.167</td>\n",
       "    </tr>\n",
       "    <tr>\n",
       "      <th>February</th>\n",
       "      <td>4629.494</td>\n",
       "    </tr>\n",
       "  </tbody>\n",
       "</table>\n",
       "</div>"
      ],
      "text/plain": [
       "            Gross_Income\n",
       "Month_Name              \n",
       "January         5537.708\n",
       "March           5212.167\n",
       "February        4629.494"
      ]
     },
     "execution_count": 251,
     "metadata": {},
     "output_type": "execute_result"
    }
   ],
   "source": [
    "raw_data[\"Month_Name\"] = pd.to_datetime(raw_data['Date']).dt.month_name()\n",
    "raw_data[[\"Month_Name\",\"Gross_Income\"]].groupby([\"Month_Name\"]).sum([\"Gross_Income\"]).sort_values([\"Gross_Income\"],ascending=False)"
   ]
  },
  {
   "cell_type": "code",
   "execution_count": null,
   "id": "243c1407-5731-4e6a-a874-1641eb616f66",
   "metadata": {},
   "outputs": [],
   "source": []
  },
  {
   "cell_type": "markdown",
   "id": "b0a441a7-fada-4822-8989-543953ffe589",
   "metadata": {},
   "source": [
    "TOP PRODUCT LINE BASED ON TOTAL GROSS INCOME"
   ]
  },
  {
   "cell_type": "code",
   "execution_count": 256,
   "id": "a768ea23-a6d5-474d-854d-0e4d3cae8cd9",
   "metadata": {},
   "outputs": [
    {
     "data": {
      "text/html": [
       "<div>\n",
       "<style scoped>\n",
       "    .dataframe tbody tr th:only-of-type {\n",
       "        vertical-align: middle;\n",
       "    }\n",
       "\n",
       "    .dataframe tbody tr th {\n",
       "        vertical-align: top;\n",
       "    }\n",
       "\n",
       "    .dataframe thead th {\n",
       "        text-align: right;\n",
       "    }\n",
       "</style>\n",
       "<table border=\"1\" class=\"dataframe\">\n",
       "  <thead>\n",
       "    <tr style=\"text-align: right;\">\n",
       "      <th></th>\n",
       "      <th>Gross_Income</th>\n",
       "    </tr>\n",
       "    <tr>\n",
       "      <th>Product_Line</th>\n",
       "      <th></th>\n",
       "    </tr>\n",
       "  </thead>\n",
       "  <tbody>\n",
       "    <tr>\n",
       "      <th>Food and beverages</th>\n",
       "      <td>2673.5640</td>\n",
       "    </tr>\n",
       "    <tr>\n",
       "      <th>Sports and travel</th>\n",
       "      <td>2624.8965</td>\n",
       "    </tr>\n",
       "    <tr>\n",
       "      <th>Electronic accessories</th>\n",
       "      <td>2587.5015</td>\n",
       "    </tr>\n",
       "    <tr>\n",
       "      <th>Fashion accessories</th>\n",
       "      <td>2585.9950</td>\n",
       "    </tr>\n",
       "    <tr>\n",
       "      <th>Home and lifestyle</th>\n",
       "      <td>2564.8530</td>\n",
       "    </tr>\n",
       "    <tr>\n",
       "      <th>Health and beauty</th>\n",
       "      <td>2342.5590</td>\n",
       "    </tr>\n",
       "  </tbody>\n",
       "</table>\n",
       "</div>"
      ],
      "text/plain": [
       "                        Gross_Income\n",
       "Product_Line                        \n",
       "Food and beverages         2673.5640\n",
       "Sports and travel          2624.8965\n",
       "Electronic accessories     2587.5015\n",
       "Fashion accessories        2585.9950\n",
       "Home and lifestyle         2564.8530\n",
       "Health and beauty          2342.5590"
      ]
     },
     "execution_count": 256,
     "metadata": {},
     "output_type": "execute_result"
    }
   ],
   "source": [
    "topproduct = raw_data[[\"Product_Line\",\"Gross_Income\"]].groupby([\"Product_Line\",]).sum([\"Gross_Income\"]).sort_values([\"Gross_Income\"],ascending = False)\n",
    "topproduct\n"
   ]
  },
  {
   "cell_type": "markdown",
   "id": "e6d11a80-96b6-4789-aaaf-b6fd4c5489d7",
   "metadata": {},
   "source": [
    "MOST PRODUCT LINE SALES BY GENDER (MALE & FEMALE)"
   ]
  },
  {
   "cell_type": "code",
   "execution_count": 278,
   "id": "286a68ac-bdbf-4f9a-8c67-8e9ecd9ed940",
   "metadata": {},
   "outputs": [
    {
     "data": {
      "text/plain": [
       "Product_Line            Gender\n",
       "Electronic accessories  Male      86\n",
       "                        Female    84\n",
       "Fashion accessories     Female    96\n",
       "                        Male      82\n",
       "Food and beverages      Female    90\n",
       "                        Male      84\n",
       "Health and beauty       Male      88\n",
       "                        Female    64\n",
       "Home and lifestyle      Male      81\n",
       "                        Female    79\n",
       "Sports and travel       Female    88\n",
       "                        Male      78\n",
       "Name: count, dtype: int64"
      ]
     },
     "execution_count": 278,
     "metadata": {},
     "output_type": "execute_result"
    }
   ],
   "source": [
    "raw_data.groupby([\"Product_Line\"]).value_counts(['Gender'])"
   ]
  },
  {
   "cell_type": "markdown",
   "id": "65f72f68-aa82-48ab-bdfb-0bb1d6e2522c",
   "metadata": {},
   "source": [
    "MOST USED PAYMENT METHOD"
   ]
  },
  {
   "cell_type": "code",
   "execution_count": 284,
   "id": "5ba9497a-2181-4df6-a856-d29afec90131",
   "metadata": {},
   "outputs": [
    {
     "data": {
      "text/plain": [
       "Payment    \n",
       "Ewallet        345\n",
       "Cash           344\n",
       "Credit card    311\n",
       "Name: count, dtype: int64"
      ]
     },
     "execution_count": 284,
     "metadata": {},
     "output_type": "execute_result"
    }
   ],
   "source": [
    "raw_data.value_counts([\"Payment\"])"
   ]
  },
  {
   "cell_type": "code",
   "execution_count": null,
   "id": "36206bd3-1204-43cd-9d52-2aa8c8e8154f",
   "metadata": {},
   "outputs": [],
   "source": [
    "GENDER THAT SPEND MOST"
   ]
  },
  {
   "cell_type": "code",
   "execution_count": 302,
   "id": "a23a35ab-3537-4eba-84c0-8d0f8ad0e133",
   "metadata": {},
   "outputs": [
    {
     "data": {
      "text/html": [
       "<div>\n",
       "<style scoped>\n",
       "    .dataframe tbody tr th:only-of-type {\n",
       "        vertical-align: middle;\n",
       "    }\n",
       "\n",
       "    .dataframe tbody tr th {\n",
       "        vertical-align: top;\n",
       "    }\n",
       "\n",
       "    .dataframe thead th {\n",
       "        text-align: right;\n",
       "    }\n",
       "</style>\n",
       "<table border=\"1\" class=\"dataframe\">\n",
       "  <thead>\n",
       "    <tr style=\"text-align: right;\">\n",
       "      <th></th>\n",
       "      <th>Total</th>\n",
       "    </tr>\n",
       "    <tr>\n",
       "      <th>Gender</th>\n",
       "      <th></th>\n",
       "    </tr>\n",
       "  </thead>\n",
       "  <tbody>\n",
       "    <tr>\n",
       "      <th>Female</th>\n",
       "      <td>167882.925</td>\n",
       "    </tr>\n",
       "    <tr>\n",
       "      <th>Male</th>\n",
       "      <td>155083.824</td>\n",
       "    </tr>\n",
       "  </tbody>\n",
       "</table>\n",
       "</div>"
      ],
      "text/plain": [
       "             Total\n",
       "Gender            \n",
       "Female  167882.925\n",
       "Male    155083.824"
      ]
     },
     "execution_count": 302,
     "metadata": {},
     "output_type": "execute_result"
    }
   ],
   "source": [
    "raw_data[[\"Gender\",\"Total\"]].groupby([\"Gender\"]).sum([\"Total\"])"
   ]
  },
  {
   "cell_type": "code",
   "execution_count": null,
   "id": "79a40e55-2d29-4c14-8d2b-0b33937b6c0c",
   "metadata": {},
   "outputs": [],
   "source": []
  },
  {
   "cell_type": "code",
   "execution_count": null,
   "id": "2ce25720-4957-4cce-9df4-2639ce52abdd",
   "metadata": {},
   "outputs": [],
   "source": []
  },
  {
   "cell_type": "code",
   "execution_count": null,
   "id": "59d5c8c7-7b8f-4bf0-af38-fa01e784118e",
   "metadata": {},
   "outputs": [],
   "source": []
  },
  {
   "cell_type": "code",
   "execution_count": null,
   "id": "35a6d463-f2d6-4f6e-8c6d-c4d90fd5b767",
   "metadata": {},
   "outputs": [],
   "source": []
  },
  {
   "cell_type": "code",
   "execution_count": null,
   "id": "4161592e-eaed-4207-b005-5c0a090a1c38",
   "metadata": {},
   "outputs": [],
   "source": []
  }
 ],
 "metadata": {
  "kernelspec": {
   "display_name": "Python 3 (ipykernel)",
   "language": "python",
   "name": "python3"
  },
  "language_info": {
   "codemirror_mode": {
    "name": "ipython",
    "version": 3
   },
   "file_extension": ".py",
   "mimetype": "text/x-python",
   "name": "python",
   "nbconvert_exporter": "python",
   "pygments_lexer": "ipython3",
   "version": "3.12.4"
  }
 },
 "nbformat": 4,
 "nbformat_minor": 5
}
